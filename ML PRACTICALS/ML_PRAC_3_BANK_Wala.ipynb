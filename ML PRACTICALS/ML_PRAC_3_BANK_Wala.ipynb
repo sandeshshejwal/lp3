{
 "cells": [
  {
   "cell_type": "code",
   "execution_count": 2,
   "id": "f8d1558a",
   "metadata": {},
   "outputs": [],
   "source": [
    "import numpy as np\n",
    "import pandas as pd\n",
    "import matplotlib.pyplot as plt\n",
    "import seaborn as sns\n",
    "from sklearn.preprocessing import MinMaxScaler, StandardScaler\n",
    "from sklearn.model_selection import train_test_split\n",
    "from tensorflow.keras.models import Sequential\n",
    "from tensorflow.keras.layers import Dense"
   ]
  },
  {
   "cell_type": "code",
   "execution_count": 3,
   "id": "8f556828",
   "metadata": {},
   "outputs": [],
   "source": [
    "# Load your dataset, adjust the file path as needed\n",
    "df = pd.read_csv('/Users/sandeshshejwal/Documents/ML PRACTICALS/Churn_Modelling.csv')\n"
   ]
  },
  {
   "cell_type": "code",
   "execution_count": 4,
   "id": "afdb5f49",
   "metadata": {},
   "outputs": [],
   "source": [
    "df.drop(['RowNumber', 'Surname'], axis='columns', inplace=True)\n"
   ]
  },
  {
   "cell_type": "code",
   "execution_count": 5,
   "id": "f0cee0c1",
   "metadata": {},
   "outputs": [],
   "source": [
    "# Perform one-hot encoding\n",
    "df = pd.get_dummies(data=df, columns=['Geography'])"
   ]
  },
  {
   "cell_type": "code",
   "execution_count": 6,
   "id": "57d404ba",
   "metadata": {},
   "outputs": [],
   "source": [
    "# Replace 'Gender' with numeric values\n",
    "df['Gender'].replace(['Male', 'Female'], [1, 0], inplace=True)"
   ]
  },
  {
   "cell_type": "code",
   "execution_count": 7,
   "id": "abfd8279",
   "metadata": {},
   "outputs": [],
   "source": [
    "# Define the features (X) and target (y)\n",
    "X = df.drop('Exited', axis=1)\n",
    "y = df['Exited']"
   ]
  },
  {
   "cell_type": "code",
   "execution_count": 8,
   "id": "998b995a",
   "metadata": {},
   "outputs": [],
   "source": [
    "# Split the data into training and testing sets\n",
    "X_train, X_test, y_train, y_test = train_test_split(X, y, test_size=0.2, random_state=0)"
   ]
  },
  {
   "cell_type": "code",
   "execution_count": 9,
   "id": "deb86113",
   "metadata": {},
   "outputs": [],
   "source": [
    "# Feature Scaling\n",
    "scaler = StandardScaler()\n",
    "X_train = scaler.fit_transform(X_train)\n",
    "X_test = scaler.transform(X_test)"
   ]
  },
  {
   "cell_type": "code",
   "execution_count": 12,
   "id": "7065db94",
   "metadata": {},
   "outputs": [],
   "source": [
    "# Create a neural network model\n",
    "model = Sequential()\n",
    "model.add(Dense(units=64, activation='relu', input_dim=X_train.shape[1]))\n",
    "model.add(Dense(units=32, activation='relu'))\n",
    "model.add(Dense(units=1, activation='sigmoid'))\n"
   ]
  },
  {
   "cell_type": "code",
   "execution_count": 13,
   "id": "c48adeac",
   "metadata": {},
   "outputs": [],
   "source": [
    "# Compile the model\n",
    "model.compile(optimizer='adam', loss='binary_crossentropy', metrics=['accuracy'])"
   ]
  },
  {
   "cell_type": "code",
   "execution_count": 14,
   "id": "b33ea2e6",
   "metadata": {},
   "outputs": [
    {
     "name": "stdout",
     "output_type": "stream",
     "text": [
      "Epoch 1/10\n",
      "  1/250 [..............................] - ETA: 32s - loss: 0.7081 - accuracy: 0.5000"
     ]
    },
    {
     "name": "stderr",
     "output_type": "stream",
     "text": [
      "2023-11-03 23:33:15.581902: W tensorflow/tsl/platform/profile_utils/cpu_utils.cc:128] Failed to get CPU frequency: 0 Hz\n"
     ]
    },
    {
     "name": "stdout",
     "output_type": "stream",
     "text": [
      "250/250 [==============================] - 0s 320us/step - loss: 0.4501 - accuracy: 0.8071\n",
      "Epoch 2/10\n",
      "250/250 [==============================] - 0s 296us/step - loss: 0.3919 - accuracy: 0.8370\n",
      "Epoch 3/10\n",
      "250/250 [==============================] - 0s 284us/step - loss: 0.3625 - accuracy: 0.8506\n",
      "Epoch 4/10\n",
      "250/250 [==============================] - 0s 284us/step - loss: 0.3491 - accuracy: 0.8576\n",
      "Epoch 5/10\n",
      "250/250 [==============================] - 0s 284us/step - loss: 0.3438 - accuracy: 0.8590\n",
      "Epoch 6/10\n",
      "250/250 [==============================] - 0s 283us/step - loss: 0.3388 - accuracy: 0.8616\n",
      "Epoch 7/10\n",
      "250/250 [==============================] - 0s 284us/step - loss: 0.3350 - accuracy: 0.8652\n",
      "Epoch 8/10\n",
      "250/250 [==============================] - 0s 286us/step - loss: 0.3319 - accuracy: 0.8637\n",
      "Epoch 9/10\n",
      "250/250 [==============================] - 0s 284us/step - loss: 0.3300 - accuracy: 0.8666\n",
      "Epoch 10/10\n",
      "250/250 [==============================] - 0s 285us/step - loss: 0.3287 - accuracy: 0.8639\n"
     ]
    },
    {
     "data": {
      "text/plain": [
       "<keras.callbacks.History at 0x17ba1c350>"
      ]
     },
     "execution_count": 14,
     "metadata": {},
     "output_type": "execute_result"
    }
   ],
   "source": [
    "# Train the model\n",
    "model.fit(X_train, y_train, epochs=10, batch_size=32)\n"
   ]
  },
  {
   "cell_type": "code",
   "execution_count": 15,
   "id": "b78b0470",
   "metadata": {},
   "outputs": [
    {
     "name": "stdout",
     "output_type": "stream",
     "text": [
      "63/63 [==============================] - 0s 266us/step - loss: 0.3414 - accuracy: 0.8560\n",
      "Test Accuracy: 0.8560000061988831\n"
     ]
    }
   ],
   "source": [
    "# Evaluate the model on the test data\n",
    "accuracy = model.evaluate(X_test, y_test)\n",
    "print(\"Test Accuracy:\", accuracy[1])"
   ]
  },
  {
   "cell_type": "code",
   "execution_count": null,
   "id": "744b6cd8",
   "metadata": {},
   "outputs": [],
   "source": []
  }
 ],
 "metadata": {
  "kernelspec": {
   "display_name": "Python 3 (ipykernel)",
   "language": "python",
   "name": "python3"
  },
  "language_info": {
   "codemirror_mode": {
    "name": "ipython",
    "version": 3
   },
   "file_extension": ".py",
   "mimetype": "text/x-python",
   "name": "python",
   "nbconvert_exporter": "python",
   "pygments_lexer": "ipython3",
   "version": "3.11.4"
  }
 },
 "nbformat": 4,
 "nbformat_minor": 5
}
